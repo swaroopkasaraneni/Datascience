{
  "nbformat": 4,
  "nbformat_minor": 0,
  "metadata": {
    "colab": {
      "provenance": [],
      "authorship_tag": "ABX9TyOAD3BCpZ8vIk8p3hIjr8gx",
      "include_colab_link": true
    },
    "kernelspec": {
      "name": "python3",
      "display_name": "Python 3"
    },
    "language_info": {
      "name": "python"
    }
  },
  "cells": [
    {
      "cell_type": "markdown",
      "metadata": {
        "id": "view-in-github",
        "colab_type": "text"
      },
      "source": [
        "<a href=\"https://colab.research.google.com/github/swaroopkasaraneni/PythonProgramming/blob/main/moduleCase2.ipynb\" target=\"_parent\"><img src=\"https://colab.research.google.com/assets/colab-badge.svg\" alt=\"Open In Colab\"/></a>"
      ]
    },
    {
      "cell_type": "code",
      "execution_count": null,
      "metadata": {
        "id": "tsNnSyExPXyT"
      },
      "outputs": [],
      "source": []
    },
    {
      "cell_type": "markdown",
      "source": [
        "1. Read file bank-data.csv\n",
        "2. Build a set of unique jobs\n",
        "3. Read the input from command line –profession\n",
        "4. Check if professionis in list\n",
        "5. Print whetherclient is eligible"
      ],
      "metadata": {
        "id": "bxd7SrbDPaZj"
      }
    },
    {
      "cell_type": "code",
      "source": [
        "import csv\n",
        "\n",
        "def get_unique_jobs(filename):\n",
        "    jobs = set()\n",
        "    with open(filename, mode='r') as file:\n",
        "        reader = csv.reader(file)\n",
        "        next(reader)\n",
        "        for row in reader:\n",
        "            job = row[1]\n",
        "            jobs.add(job)\n",
        "    return jobs\n",
        "\n",
        "def check_eligibility(profession, jobs):\n",
        "    if profession in jobs:\n",
        "        print(f\"The client with profession '{profession}' is eligible.\")\n",
        "    else:\n",
        "        print(f\"The client with profession '{profession}' is not eligible.\")\n",
        "\n",
        "\n",
        "filename = '/content/bank-data.csv'\n",
        "unique_jobs = get_unique_jobs(filename)\n",
        "profession = input(\"Enter your profession: \")\n",
        "check_eligibility(profession, unique_jobs)\n"
      ],
      "metadata": {
        "colab": {
          "base_uri": "https://localhost:8080/"
        },
        "id": "f7KJGJ6cQSQO",
        "outputId": "87911386-6d99-4966-aa5d-cec041ad363e"
      },
      "execution_count": 2,
      "outputs": [
        {
          "output_type": "stream",
          "name": "stdout",
          "text": [
            "Enter your profession: tesss\n",
            "The client with profession 'tesss' is not eligible.\n"
          ]
        }
      ]
    },
    {
      "cell_type": "markdown",
      "source": [
        "Enhancements for codeYou can try these enhancements in code\n",
        "1. Compute max and min age for loan eligibility based on data in csv file\n",
        "2. Store max and min age in dictionary\n",
        "3. Make the profession check case insensitive\n",
        "4. Currently program ends after the check. Take the input in whileloop and end only ifuser types \"END\" for profession\n"
      ],
      "metadata": {
        "id": "lkUe2RnyQfxs"
      }
    },
    {
      "cell_type": "code",
      "source": [
        "import csv\n",
        "\n",
        "def compute_age_range(filename):\n",
        "    min_age = float('inf')\n",
        "    max_age = float('-inf')\n",
        "    with open(filename, mode='r') as file:\n",
        "        reader = csv.reader(file)\n",
        "        next(reader)\n",
        "\n",
        "        for row in reader:\n",
        "            try:\n",
        "                age = int(row[0])\n",
        "                if age < min_age:\n",
        "                    min_age = age\n",
        "                if age > max_age:\n",
        "                    max_age = age\n",
        "            except ValueError:\n",
        "                continue\n",
        "    return min_age, max_age\n",
        "\n",
        "def get_unique_jobs(filename):\n",
        "    jobs = set()\n",
        "    with open(filename, mode='r') as file:\n",
        "        reader = csv.reader(file)\n",
        "        next(reader)\n",
        "        for row in reader:\n",
        "            job = row[1]\n",
        "            jobs.add(job)\n",
        "    return jobs\n",
        "\n",
        "def check_eligibility(profession, jobs):\n",
        "    if profession in jobs:\n",
        "        print(f\"The client with profession '{profession}' is eligible.\")\n",
        "    else:\n",
        "        print(f\"The client with profession '{profession}' is not eligible.\")\n",
        "\n",
        "\n",
        "\n",
        "filename = 'bank-data.csv'\n",
        "\n",
        "min_age, max_age = compute_age_range(filename)\n",
        "age_range = {'min_age': min_age, 'max_age': max_age}\n",
        "print(f\"Loan Eligibility Age Range: {age_range}\")\n",
        "\n",
        "unique_jobs = get_unique_jobs(filename)\n",
        "while True:\n",
        "    profession = input(\"Enter your profession (or type 'END' to exit): \")\n",
        "    if profession == \"END\":\n",
        "        print(\"Exiting program.\")\n",
        "        break\n",
        "    check_eligibility(profession, unique_jobs)\n"
      ],
      "metadata": {
        "colab": {
          "base_uri": "https://localhost:8080/"
        },
        "id": "APDMkTNjTjrD",
        "outputId": "689159ca-ff7a-4bb7-c1f6-cc90d9b0cffb"
      },
      "execution_count": 3,
      "outputs": [
        {
          "output_type": "stream",
          "name": "stdout",
          "text": [
            "Loan Eligibility Age Range: {'min_age': 19, 'max_age': 80}\n",
            "Enter your profession (or type 'END' to exit): blue-collar\n",
            "The client with profession 'blue-collar' is eligible.\n",
            "Enter your profession (or type 'END' to exit): END\n",
            "Exiting program.\n"
          ]
        }
      ]
    }
  ]
}
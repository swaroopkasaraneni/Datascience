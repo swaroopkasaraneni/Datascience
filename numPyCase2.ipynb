{
  "nbformat": 4,
  "nbformat_minor": 0,
  "metadata": {
    "colab": {
      "provenance": [],
      "authorship_tag": "ABX9TyN4XSy5eeUpOmB22PAF5d4c",
      "include_colab_link": true
    },
    "kernelspec": {
      "name": "python3",
      "display_name": "Python 3"
    },
    "language_info": {
      "name": "python"
    }
  },
  "cells": [
    {
      "cell_type": "markdown",
      "metadata": {
        "id": "view-in-github",
        "colab_type": "text"
      },
      "source": [
        "<a href=\"https://colab.research.google.com/github/swaroopkasaraneni/PythonProgramming/blob/main/numPyCase2.ipynb\" target=\"_parent\"><img src=\"https://colab.research.google.com/assets/colab-badge.svg\" alt=\"Open In Colab\"/></a>"
      ]
    },
    {
      "cell_type": "code",
      "execution_count": null,
      "metadata": {
        "id": "nkfCy3Sw391N"
      },
      "outputs": [],
      "source": []
    },
    {
      "cell_type": "markdown",
      "source": [
        "1. Read the three csv files which contains the score of same students in term1 for each Subject\n",
        "2. Remove the name and ethnicity column (to ensure confidentiality)\n",
        "3. Fill missing score data with zero\n",
        "4. Merge the three files\n",
        "5. Change Sex(M/F) Column to 1/2 for further analysis\n",
        "6. Store the data in new file –ScoreFinal.csv\n",
        "\n"
      ],
      "metadata": {
        "id": "DnqpxQf14DRa"
      }
    },
    {
      "cell_type": "code",
      "source": [
        "import pandas as pd\n",
        "\n",
        "# Read the three CSV files\n",
        "df_subject1 = pd.read_csv('/content/DSScoreTerm1.csv')\n",
        "df_subject2 = pd.read_csv('/content/MathScoreTerm1.csv')\n",
        "df_subject3 = pd.read_csv('/content/PhysicsScoreTerm1.csv')\n",
        "\n",
        "# Drop the 'name' and 'ethnicity' columns\n",
        "df_subject1 = df_subject1.drop(columns=['Name', 'Ethinicity'])\n",
        "df_subject2 = df_subject2.drop(columns=['Name', 'Ethinicity'])\n",
        "df_subject3 = df_subject3.drop(columns=['Name', 'Ethinicity'])\n",
        "\n",
        "# Fill missing values with zero\n",
        "df_subject1 = df_subject1.fillna(0)\n",
        "df_subject2 = df_subject2.fillna(0)\n",
        "df_subject3 = df_subject3.fillna(0)\n",
        "\n",
        "# Merge the three DataFrames\n",
        "df_merged = pd.merge(df_subject1, df_subject2, on='ID', how='outer')\n",
        "df_merged = pd.merge(df_merged, df_subject3, on='ID', how='outer')\n",
        "\n",
        "df_merged['Sex'] = df_merged['Sex'].map({'M': 1, 'F': 2})\n",
        "\n",
        "df_merged.to_csv('/content/ScoreFinal.csv', index=False)\n",
        "\n"
      ],
      "metadata": {
        "id": "NVbvDhk54YSP"
      },
      "execution_count": 3,
      "outputs": []
    },
    {
      "cell_type": "markdown",
      "source": [
        "Enhancements for code\n",
        "1. Convert ethnicity to numericalvalue\n",
        "2. Fill the missing score for a student to the average of the class"
      ],
      "metadata": {
        "id": "TP8uPkqJ4YoW"
      }
    },
    {
      "cell_type": "code",
      "source": [
        "import pandas as pd\n",
        "\n",
        "# Read the three CSV files\n",
        "df_subject1 = pd.read_csv('/content/DSScoreTerm1.csv')\n",
        "df_subject2 = pd.read_csv('/content/MathScoreTerm1.csv')\n",
        "df_subject3 = pd.read_csv('/content/PhysicsScoreTerm1.csv')\n",
        "\n",
        "# Drop the 'name' column\n",
        "df_subject1 = df_subject1.drop(columns=['Name'])\n",
        "df_subject2 = df_subject2.drop(columns=['Name'])\n",
        "df_subject3 = df_subject3.drop(columns=['Name'])\n",
        "\n",
        "# print(df_subject1['Ethinicity'].unique())\n",
        "\n",
        "ethnicity_mapping = {\n",
        "    'White American' : 1,\n",
        "    'European American': 2,\n",
        "    'Hispanic': 3,\n",
        "    'African American': 4,\n",
        "\n",
        "}\n",
        "\n",
        "df_subject1['Ethinicity'] = df_subject1['Ethinicity'].map(ethnicity_mapping)\n",
        "df_subject2['Ethinicity'] = df_subject2['Ethinicity'].map(ethnicity_mapping)\n",
        "df_subject3['Ethinicity'] = df_subject3['Ethinicity'].map(ethnicity_mapping)\n",
        "\n",
        "\n",
        "\n",
        "print(df_subject1.head())\n",
        "\n",
        "df_subject1[\"Score\"] = df_subject1[\"Score\"].fillna(df_subject1[\"Score\"].mean())\n",
        "df_subject2[\"Score\"] = df_subject2[\"Score\"].fillna(df_subject2[\"Score\"].mean())\n",
        "df_subject3[\"Score\"] = df_subject3[\"Score\"].fillna(df_subject3[\"Score\"].mean())\n",
        "\n",
        "# Merge the three DataFrames\n",
        "df_merged = pd.merge(df_subject1, df_subject2, on='ID', how='outer')\n",
        "df_merged = pd.merge(df_merged, df_subject3, on='ID', how='outer')\n",
        "\n",
        "df_merged['Sex'] = df_merged['Sex'].map({'M': 1, 'F': 2})\n",
        "\n",
        "df_merged.to_csv('/content/ScoreFinal1.csv', index=False)\n",
        "\n",
        "\n"
      ],
      "metadata": {
        "colab": {
          "base_uri": "https://localhost:8080/"
        },
        "id": "R0KiOcMXIHmA",
        "outputId": "1ddd4956-2184-4fa6-d335-45b74fee531d"
      },
      "execution_count": 11,
      "outputs": [
        {
          "output_type": "stream",
          "name": "stdout",
          "text": [
            "   Score  Age  Ethinicity        Subject Sex  ID\n",
            "0   82.0   18           1  Data Structue   M   1\n",
            "1   79.0   19           2  Data Structue   M   2\n",
            "2   39.0   19           2  Data Structue   M   3\n",
            "3   76.0   18           1  Data Structue   M   4\n",
            "4   76.0   18           1  Data Structue   F   5\n"
          ]
        }
      ]
    },
    {
      "cell_type": "markdown",
      "source": [],
      "metadata": {
        "id": "-GOuE8Lk4eHr"
      }
    }
  ]
}
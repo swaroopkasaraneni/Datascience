{
  "nbformat": 4,
  "nbformat_minor": 0,
  "metadata": {
    "colab": {
      "provenance": [],
      "authorship_tag": "ABX9TyOA9lKFA6QwVl26P9XRzF3Y",
      "include_colab_link": true
    },
    "kernelspec": {
      "name": "python3",
      "display_name": "Python 3"
    },
    "language_info": {
      "name": "python"
    }
  },
  "cells": [
    {
      "cell_type": "markdown",
      "metadata": {
        "id": "view-in-github",
        "colab_type": "text"
      },
      "source": [
        "<a href=\"https://colab.research.google.com/github/swaroopkasaraneni/PythonProgramming/blob/main/moduleCase1.ipynb\" target=\"_parent\"><img src=\"https://colab.research.google.com/assets/colab-badge.svg\" alt=\"Open In Colab\"/></a>"
      ]
    },
    {
      "cell_type": "code",
      "execution_count": null,
      "metadata": {
        "id": "0d2LNjH4pZg6"
      },
      "outputs": [],
      "source": []
    },
    {
      "cell_type": "markdown",
      "source": [
        "1. A Robot moves in a Plane starting from the origin point (0,0). The robot can move toward UP, DOWN, LEFT, RIGHT. The trace of Robot movement is as given following:UP 5 DOWN 3 LEFT 3 RIGHT 2 The numbers after directions are steps.  Write a program to compute the distance current position after sequence of movements.Hint: Use math module.\n"
      ],
      "metadata": {
        "id": "SWCBbaK_pdA7"
      }
    },
    {
      "cell_type": "code",
      "source": [
        "import math\n",
        "\n",
        "movements = {\"UP\": 5, \"DOWN\": 3, \"LEFT\": 3, \"RIGHT\": 2}\n",
        "x, y = 0, 0\n",
        "\n",
        "for direction, steps in movements.items():\n",
        "    if direction == \"UP\":\n",
        "        y += steps\n",
        "    elif direction == \"DOWN\":\n",
        "        y -= steps\n",
        "    elif direction == \"LEFT\":\n",
        "        x -= steps\n",
        "    elif direction == \"RIGHT\":\n",
        "        x += steps\n",
        "\n",
        "# Calculate the distance from origin\n",
        "distance = math.sqrt(x**2 + y**2)\n",
        "\n",
        "print(f\"Current position: ({x}, {y})\")\n",
        "print(f\"Distance from origin: {distance:.2f}\")\n"
      ],
      "metadata": {
        "colab": {
          "base_uri": "https://localhost:8080/"
        },
        "id": "uXYzT6BOq_8o",
        "outputId": "f262aa10-4bec-4484-8d6a-9993e403b178"
      },
      "execution_count": 1,
      "outputs": [
        {
          "output_type": "stream",
          "name": "stdout",
          "text": [
            "Current position: (-1, 2)\n",
            "Distance from origin: 2.24\n"
          ]
        }
      ]
    },
    {
      "cell_type": "markdown",
      "source": [
        "2. Data of XYZ company is stored in sorted list. Write a program for searching specific data from that list.Hint: Use if/elif to deal with conditions."
      ],
      "metadata": {
        "id": "HpSUT2riqgdf"
      }
    },
    {
      "cell_type": "code",
      "source": [
        "def binary_search(sorted_list, target):\n",
        "    low, high = 0, len(sorted_list) - 1\n",
        "    while low <= high:\n",
        "        mid = (low + high) // 2\n",
        "        if sorted_list[mid] == target:\n",
        "            return f\"Data found at index {mid}\"\n",
        "        elif sorted_list[mid] < target:\n",
        "            low = mid + 1\n",
        "        else:\n",
        "            high = mid - 1\n",
        "    return \"Data not found\"\n",
        "\n",
        "data = [10, 20, 30, 40, 50, 60, 70, 80, 90]\n",
        "target_data = int(input(\"Enter the data to search: \"))\n",
        "result = binary_search(data, target_data)\n",
        "print(result)\n"
      ],
      "metadata": {
        "colab": {
          "base_uri": "https://localhost:8080/"
        },
        "id": "sp_h-pdjroWS",
        "outputId": "51e13aee-b71a-4eec-8c33-2acf0a12a2db"
      },
      "execution_count": 2,
      "outputs": [
        {
          "output_type": "stream",
          "name": "stdout",
          "text": [
            "Enter the data to search: 50\n",
            "Data found at index 4\n"
          ]
        }
      ]
    },
    {
      "cell_type": "markdown",
      "source": [
        "3. Weather forecasting organization wants to show is it day or night. So, write a program for such organization to find whether is it dark outside or not.Hint: Use time module."
      ],
      "metadata": {
        "id": "gDlh1THPqpgz"
      }
    },
    {
      "cell_type": "code",
      "source": [
        "import time\n",
        "\n",
        "def is_dark_outside():\n",
        "    # Get the current hour in 24-hour format\n",
        "    print(time.localtime())\n",
        "    current_hour = time.localtime().tm_hour\n",
        "    if 18 <= current_hour or current_hour < 6:  # 6 PM to 6 AM\n",
        "        return \"It is dark outside.\"\n",
        "    else:\n",
        "        return \"It is not dark outside.\"\n",
        "\n",
        "# Call the function and print the result\n",
        "print(is_dark_outside())\n"
      ],
      "metadata": {
        "colab": {
          "base_uri": "https://localhost:8080/"
        },
        "id": "5vMzaIBDsV_L",
        "outputId": "a26daa08-c2dd-487d-f543-36cb68fdf6cf"
      },
      "execution_count": 4,
      "outputs": [
        {
          "output_type": "stream",
          "name": "stdout",
          "text": [
            "time.struct_time(tm_year=2024, tm_mon=12, tm_mday=4, tm_hour=17, tm_min=24, tm_sec=22, tm_wday=2, tm_yday=339, tm_isdst=0)\n",
            "It is not dark outside.\n"
          ]
        }
      ]
    },
    {
      "cell_type": "markdown",
      "source": [
        "4. Write a program to find distance between two locations when their latitude and longitudes are given.Hint: Use math module."
      ],
      "metadata": {
        "id": "0ne1T1aTqsob"
      }
    },
    {
      "cell_type": "code",
      "source": [
        "import math\n",
        "\n",
        "def simple_distance(lat1, lon1, lat2, lon2):\n",
        "    distance = math.sqrt((lat2 - lat1)**2 + (lon2 - lon1)**2)\n",
        "    return distance\n",
        "\n",
        "lat1 = float(input(\"Enter latitude of the first location: \"))\n",
        "lon1 = float(input(\"Enter longitude of the first location: \"))\n",
        "lat2 = float(input(\"Enter latitude of the second location: \"))\n",
        "lon2 = float(input(\"Enter longitude of the second location: \"))\n",
        "\n",
        "distance = simple_distance(lat1, lon1, lat2, lon2)\n",
        "print(f\"The simple distance between the two locations is {distance:.2f} units.\")\n"
      ],
      "metadata": {
        "colab": {
          "base_uri": "https://localhost:8080/"
        },
        "id": "UpE1a7Tdte-x",
        "outputId": "f224514f-195b-4c40-ee55-7d1d57babde8"
      },
      "execution_count": 5,
      "outputs": [
        {
          "output_type": "stream",
          "name": "stdout",
          "text": [
            "Enter latitude of the first location: 10\n",
            "Enter longitude of the first location: 20\n",
            "Enter latitude of the second location: 30\n",
            "Enter longitude of the second location: 40\n",
            "The simple distance between the two locations is 28.28 units.\n"
          ]
        }
      ]
    },
    {
      "cell_type": "markdown",
      "source": [
        "5. Design a software for bank system. There should be options like cash withdraw, cash credit and change password. According to user input, the software should provide required output.Hint: Use if else statements and functions."
      ],
      "metadata": {
        "id": "zuRLA03VqvoP"
      }
    },
    {
      "cell_type": "code",
      "source": [
        "# Initial account data\n",
        "account_balance = 1000\n",
        "account_password = \"1234\"\n",
        "\n",
        "def withdraw_cash(balance):\n",
        "    amount = float(input(\"Enter the amount to withdraw: \"))\n",
        "    if amount > balance:\n",
        "        print(\"Insufficient balance!\")\n",
        "    else:\n",
        "        balance -= amount\n",
        "        print(f\"Withdrawal successful! Remaining balance: {balance:.2f}\")\n",
        "    return balance\n",
        "\n",
        "def credit_cash(balance):\n",
        "    amount = float(input(\"Enter the amount to credit: \"))\n",
        "    balance += amount\n",
        "    print(f\"Credit successful! Updated balance: {balance:.2f}\")\n",
        "    return balance\n",
        "\n",
        "def change_password(current_password):\n",
        "    old_password = input(\"Enter your current password: \")\n",
        "    if old_password == current_password:\n",
        "        new_password = input(\"Enter your new password: \")\n",
        "        confirm_password = input(\"Confirm your new password: \")\n",
        "        if new_password == confirm_password:\n",
        "            print(\"Password changed successfully!\")\n",
        "            return new_password\n",
        "        else:\n",
        "            print(\"Passwords do not match! Try again.\")\n",
        "    else:\n",
        "        print(\"Incorrect current password!\")\n",
        "    return current_password\n",
        "\n",
        "def bank_system():\n",
        "    global account_balance, account_password\n",
        "    while True:\n",
        "        print(\"\\n--- Welcome to the Bank System ---\")\n",
        "        print(\"1. Cash Withdraw\")\n",
        "        print(\"2. Cash Credit\")\n",
        "        print(\"3. Change Password\")\n",
        "        print(\"4. Exit\")\n",
        "\n",
        "        choice = input(\"Enter your choice (1-4): \")\n",
        "\n",
        "        if choice == \"1\":\n",
        "            account_balance = withdraw_cash(account_balance)\n",
        "        elif choice == \"2\":\n",
        "            account_balance = credit_cash(account_balance)\n",
        "        elif choice == \"3\":\n",
        "            account_password = change_password(account_password)\n",
        "        elif choice == \"4\":\n",
        "            print(\"Thank you for using the bank system. Goodbye!\")\n",
        "            break\n",
        "        else:\n",
        "            print(\"Invalid choice! Please try again.\")\n",
        "\n",
        "bank_system()\n"
      ],
      "metadata": {
        "colab": {
          "base_uri": "https://localhost:8080/"
        },
        "id": "QBgV3sHhuET8",
        "outputId": "fcdd3a6a-a72f-4148-a35b-7aced47ea78c"
      },
      "execution_count": 6,
      "outputs": [
        {
          "output_type": "stream",
          "name": "stdout",
          "text": [
            "\n",
            "--- Welcome to the Bank System ---\n",
            "1. Cash Withdraw\n",
            "2. Cash Credit\n",
            "3. Change Password\n",
            "4. Exit\n",
            "Enter your choice (1-4): 1\n",
            "Enter the amount to withdraw: 100\n",
            "Withdrawal successful! Remaining balance: 900.00\n",
            "\n",
            "--- Welcome to the Bank System ---\n",
            "1. Cash Withdraw\n",
            "2. Cash Credit\n",
            "3. Change Password\n",
            "4. Exit\n",
            "Enter your choice (1-4): 2\n",
            "Enter the amount to credit: 100\n",
            "Credit successful! Updated balance: 1000.00\n",
            "\n",
            "--- Welcome to the Bank System ---\n",
            "1. Cash Withdraw\n",
            "2. Cash Credit\n",
            "3. Change Password\n",
            "4. Exit\n",
            "Enter your choice (1-4): 3\n",
            "Enter your current password: 1234\n",
            "Enter your new password: 12345\n",
            "Confirm your new password: 12345\n",
            "Password changed successfully!\n",
            "\n",
            "--- Welcome to the Bank System ---\n",
            "1. Cash Withdraw\n",
            "2. Cash Credit\n",
            "3. Change Password\n",
            "4. Exit\n",
            "Enter your choice (1-4): 4\n",
            "Thank you for using the bank system. Goodbye!\n"
          ]
        }
      ]
    },
    {
      "cell_type": "markdown",
      "source": [
        "6. Write a program which will find all such numbers which are divisible by 7 but are not a multiple of 5, between 2000 and 3200 (both included). The numbers obtained should be printed in acomma-separated sequence on a single line."
      ],
      "metadata": {
        "id": "3T9ZVTbAJ-CJ"
      }
    },
    {
      "cell_type": "code",
      "source": [
        "result = []\n",
        "\n",
        "for number in range(2000, 3201):\n",
        "    if number % 7 == 0 and number % 5 != 0:\n",
        "        result.append(str(number))\n",
        "print(\",\".join(result))\n"
      ],
      "metadata": {
        "colab": {
          "base_uri": "https://localhost:8080/"
        },
        "id": "lauN_9ntLt1y",
        "outputId": "21960a92-aa99-4c29-f6fe-2abedcd6e4c7"
      },
      "execution_count": 7,
      "outputs": [
        {
          "output_type": "stream",
          "name": "stdout",
          "text": [
            "2002,2009,2016,2023,2037,2044,2051,2058,2072,2079,2086,2093,2107,2114,2121,2128,2142,2149,2156,2163,2177,2184,2191,2198,2212,2219,2226,2233,2247,2254,2261,2268,2282,2289,2296,2303,2317,2324,2331,2338,2352,2359,2366,2373,2387,2394,2401,2408,2422,2429,2436,2443,2457,2464,2471,2478,2492,2499,2506,2513,2527,2534,2541,2548,2562,2569,2576,2583,2597,2604,2611,2618,2632,2639,2646,2653,2667,2674,2681,2688,2702,2709,2716,2723,2737,2744,2751,2758,2772,2779,2786,2793,2807,2814,2821,2828,2842,2849,2856,2863,2877,2884,2891,2898,2912,2919,2926,2933,2947,2954,2961,2968,2982,2989,2996,3003,3017,3024,3031,3038,3052,3059,3066,3073,3087,3094,3101,3108,3122,3129,3136,3143,3157,3164,3171,3178,3192,3199\n"
          ]
        }
      ]
    },
    {
      "cell_type": "markdown",
      "source": [
        "7. Write a program which can compute the factorial of a given numbers. Use recursion to find it. Hint: Suppose the following input is supplied to the program: 8 Then, the output should be:40320"
      ],
      "metadata": {
        "id": "U1QH09bXKHx5"
      }
    },
    {
      "cell_type": "code",
      "source": [
        "def factorial(n):\n",
        "    if n == 0 or n == 1:\n",
        "        return 1\n",
        "    return n * factorial(n - 1)\n",
        "\n",
        "number = int(input(\"Enter a number to calculate its factorial: \"))\n",
        "\n",
        "if number < 0:\n",
        "    print(\"Factorial is not defined for negative numbers.\")\n",
        "else:\n",
        "    result = factorial(number)\n",
        "    print(f\"The factorial of {number} is: {result}\")\n"
      ],
      "metadata": {
        "colab": {
          "base_uri": "https://localhost:8080/"
        },
        "id": "8A2kfDkgL6M3",
        "outputId": "1802c09f-bf8b-46bd-ba57-1505e293f5b6"
      },
      "execution_count": 8,
      "outputs": [
        {
          "output_type": "stream",
          "name": "stdout",
          "text": [
            "Enter a number to calculate its factorial: 8\n",
            "The factorial of 8 is: 40320\n"
          ]
        }
      ]
    },
    {
      "cell_type": "markdown",
      "source": [
        "8. Write a program that calculates and prints the value according to the given formula:Q = Square root of [(2 * C * D)/H]Following are the fixed values of C and H: C is 50. H is 30.D  is  the  variable  whose  values  should  be  input  to  your  program  in  a  comma-separated sequence. Example:Let  us  assume  the  following  comma  separated  input  sequence  is  given  to  the program:100,150,180The output of the program should be:18,22,24"
      ],
      "metadata": {
        "id": "bsT7-JIDKU-P"
      }
    },
    {
      "cell_type": "code",
      "source": [
        "import math\n",
        "\n",
        "C = 50\n",
        "H = 30\n",
        "\n",
        "D_values = input(\"Enter values of D (comma-separated): \")\n",
        "\n",
        "D_list = [int(x) for x in D_values.split(',')]\n",
        "\n",
        "Q_list = []\n",
        "\n",
        "for D in D_list:\n",
        "    Q = math.sqrt((2 * C * D) / H)\n",
        "    Q_list.append(str(int(Q)))\n",
        "\n",
        "print(\",\".join(Q_list))\n"
      ],
      "metadata": {
        "colab": {
          "base_uri": "https://localhost:8080/"
        },
        "id": "8ajL07inMWuZ",
        "outputId": "7ff64149-e66f-42e4-e01f-3d902c641f1d"
      },
      "execution_count": 9,
      "outputs": [
        {
          "output_type": "stream",
          "name": "stdout",
          "text": [
            "Enter values of D (comma-separated): 100,150,180\n",
            "18,22,24\n"
          ]
        }
      ]
    },
    {
      "cell_type": "markdown",
      "source": [],
      "metadata": {
        "id": "S_IbBLPtKqk5"
      }
    },
    {
      "cell_type": "markdown",
      "source": [
        "9. Write a program which takes 2 digits, X,Y as input and generates a 2-dimensional array. The element value in the i-th row and j-th column of the array should be i*j.Note: i=0,1.., X-1; j=0,1,¡-Y-1.Example:Suppose the following inputs are given to the program:3,5Then, the output of the program should be:[[0, 0, 0, 0, 0], [0, 1, 2, 3, 4], [0, 2, 4, 6, 8]]"
      ],
      "metadata": {
        "id": "uCEwG_HfKg9n"
      }
    },
    {
      "cell_type": "code",
      "source": [
        "X, Y = map(int, input(\"Enter two digits X and Y (comma separated): \").split(','))\n",
        "array = [[i * j for j in range(Y)] for i in range(X)]\n",
        "\n",
        "print(array)\n"
      ],
      "metadata": {
        "colab": {
          "base_uri": "https://localhost:8080/"
        },
        "id": "-qa9dgjPMr7h",
        "outputId": "550bab4c-cfc8-43dd-dff5-ab6f71fb5d4b"
      },
      "execution_count": 10,
      "outputs": [
        {
          "output_type": "stream",
          "name": "stdout",
          "text": [
            "Enter two digits X and Y (comma separated): 3,5\n",
            "[[0, 0, 0, 0, 0], [0, 1, 2, 3, 4], [0, 2, 4, 6, 8]]\n"
          ]
        }
      ]
    },
    {
      "cell_type": "markdown",
      "source": [
        "10. Write a program that accepts a comma separated sequence of words as input and prints the words in a comma-separated sequence after sorting them alphabetically. Suppose the following input is supplied to the program:without,hello,bag,world Then, the output should be:bag,hello,without,world"
      ],
      "metadata": {
        "id": "-QIAXtmRKrVS"
      }
    },
    {
      "cell_type": "code",
      "source": [
        "words = input(\"Enter a comma-separated sequence of words: \")\n",
        "word_list = words.split(',')\n",
        "word_list.sort()\n",
        "print(\",\".join(word_list))\n"
      ],
      "metadata": {
        "colab": {
          "base_uri": "https://localhost:8080/"
        },
        "id": "bI3t-D8LM7QZ",
        "outputId": "7af2a054-fbc4-4035-b158-80cd3fbd94b1"
      },
      "execution_count": 11,
      "outputs": [
        {
          "output_type": "stream",
          "name": "stdout",
          "text": [
            "Enter a comma-separated sequence of words: without,hello,bag,world\n",
            "bag,hello,without,world\n"
          ]
        }
      ]
    },
    {
      "cell_type": "markdown",
      "source": [
        "11. Write a program that accepts sequence of lines as input and prints the lines after making all characters in the sentence capitalized. Suppose the following inputis supplied to the program:Hello world Practice makes perfect Then, the output should be:HELLO WORLDPRACTICE MAKES PERFECT"
      ],
      "metadata": {
        "id": "4GuAyn5OKwoS"
      }
    },
    {
      "cell_type": "code",
      "source": [
        "lines = []\n",
        "while True:\n",
        "    line = input(\"Enter a line (or type 'done' to stop): \")\n",
        "    if line.lower() == 'done':\n",
        "        break\n",
        "    lines.append(line)\n",
        "\n",
        "for line in lines:\n",
        "    print(line.upper())\n"
      ],
      "metadata": {
        "colab": {
          "base_uri": "https://localhost:8080/"
        },
        "id": "wxw1hDHmNLrR",
        "outputId": "697a5a71-8ee8-48be-bdf9-4c53813399e9"
      },
      "execution_count": 12,
      "outputs": [
        {
          "output_type": "stream",
          "name": "stdout",
          "text": [
            "Enter a line (or type 'done' to stop): Hello worldPractice makes perfect\n",
            "Enter a line (or type 'done' to stop): done\n",
            "HELLO WORLDPRACTICE MAKES PERFECT\n"
          ]
        }
      ]
    },
    {
      "cell_type": "markdown",
      "source": [
        "12. Write a program that accepts a sequence of whitespace separated words as input and   prints   the   words   after   removing   all   duplicate   words   and   sorting   them alphanumerically. Suppose the following input is supplied to the program:hello world and practice makes perfect and hello world again Then, the output should be:again and hello makes perfect practice world\n"
      ],
      "metadata": {
        "id": "PEMURE7IKzlJ"
      }
    },
    {
      "cell_type": "code",
      "source": [
        "\n",
        "input_string = input(\"Enter a sequence of words: \")\n",
        "words = input_string.split()\n",
        "unique_words = list(set(words))\n",
        "unique_words.sort()\n",
        "print(\" \".join(unique_words))\n"
      ],
      "metadata": {
        "colab": {
          "base_uri": "https://localhost:8080/"
        },
        "id": "42ZATCKBNkgr",
        "outputId": "7b673817-c8e7-48b8-bac2-f61ff5218e4e"
      },
      "execution_count": 13,
      "outputs": [
        {
          "output_type": "stream",
          "name": "stdout",
          "text": [
            "Enter a sequence of words: hello world and practice makes perfect and hello world again\n",
            "again and hello makes perfect practice world\n"
          ]
        }
      ]
    },
    {
      "cell_type": "markdown",
      "source": [],
      "metadata": {
        "id": "m3d1QC_dLF3B"
      }
    },
    {
      "cell_type": "markdown",
      "source": [
        "13. Write  a  program  which  accepts  a  sequence  of  comma  separated  4  digit  binary numbers  as  its  input  and  then  check  whether  they  are  divisible  by  5  or  not.  The numbers that are divisible by 5 are to be printed in a comma separated sequence.\n",
        "Example:0100,0011,1010,1001Then the output should be:1010"
      ],
      "metadata": {
        "id": "c1_GjOoIK9Gq"
      }
    },
    {
      "cell_type": "code",
      "source": [
        "binary_numbers = input(\"Enter comma-separated 4-digit binary numbers: \")\n",
        "binary_list = binary_numbers.split(',')\n",
        "divisible_by_5 = []\n",
        "\n",
        "for binary in binary_list:\n",
        "    decimal = int(binary, 2)\n",
        "    if decimal % 5 == 0:\n",
        "        divisible_by_5.append(binary)\n",
        "\n",
        "print(\",\".join(divisible_by_5))\n"
      ],
      "metadata": {
        "colab": {
          "base_uri": "https://localhost:8080/"
        },
        "id": "d4w0MW_YN9ni",
        "outputId": "d2f3d71d-6bf3-4dc4-dd41-970bf525694f"
      },
      "execution_count": 14,
      "outputs": [
        {
          "output_type": "stream",
          "name": "stdout",
          "text": [
            "Enter comma-separated 4-digit binary numbers: 0100,0011,1010,1001\n",
            "1010\n"
          ]
        }
      ]
    },
    {
      "cell_type": "markdown",
      "source": [
        "14. Write  a  program  that  accepts  a  sentence  and  calculate  the  number  of  upper  case letters and lower case letters.Suppose the following input is supplied to the program:Hello world!Then, the output should be:UPPER CASE 1LOWER CASE 9\n"
      ],
      "metadata": {
        "id": "jm9PvX8mLQEm"
      }
    },
    {
      "cell_type": "code",
      "source": [
        "sentence = input(\"Enter a sentence: \")\n",
        "upper_case_count = 0\n",
        "lower_case_count = 0\n",
        "\n",
        "for char in sentence:\n",
        "    if char.isupper():\n",
        "        upper_case_count += 1\n",
        "    elif char.islower():\n",
        "        lower_case_count += 1\n",
        "\n",
        "print(\"UPPER CASE\", upper_case_count)\n",
        "print(\"LOWER CASE\", lower_case_count)\n"
      ],
      "metadata": {
        "colab": {
          "base_uri": "https://localhost:8080/"
        },
        "id": "2U19e0L6OcA2",
        "outputId": "5dff527a-9db3-4638-f340-0616a5dcaa32"
      },
      "execution_count": 15,
      "outputs": [
        {
          "output_type": "stream",
          "name": "stdout",
          "text": [
            "Enter a sentence: Hello world!\n",
            "UPPER CASE 1\n",
            "LOWER CASE 9\n"
          ]
        }
      ]
    },
    {
      "cell_type": "markdown",
      "source": [
        "15. Give example of fsum and sum function of math library."
      ],
      "metadata": {
        "id": "gp9VpFe1LVMt"
      }
    },
    {
      "cell_type": "code",
      "source": [
        "numbers = [1, 2, 3, 4, 5]\n",
        "result = sum(numbers)\n",
        "print(\"Sum using sum():\", result)\n"
      ],
      "metadata": {
        "colab": {
          "base_uri": "https://localhost:8080/"
        },
        "id": "8ZjM9FwoOx1k",
        "outputId": "ea0a7b72-03e2-48a5-a973-3707aad03e7c"
      },
      "execution_count": 16,
      "outputs": [
        {
          "output_type": "stream",
          "name": "stdout",
          "text": [
            "Sum using sum(): 15\n"
          ]
        }
      ]
    }
  ]
}
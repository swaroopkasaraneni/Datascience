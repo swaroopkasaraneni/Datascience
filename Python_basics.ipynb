{
  "nbformat": 4,
  "nbformat_minor": 0,
  "metadata": {
    "colab": {
      "provenance": [],
      "mount_file_id": "1iFdAvwJ8k3GRXa5epFPW8DxMJaK7O7KX",
      "authorship_tag": "ABX9TyNQa0yTkPRAQtFvUVJ01+oS",
      "include_colab_link": true
    },
    "kernelspec": {
      "name": "python3",
      "display_name": "Python 3"
    },
    "language_info": {
      "name": "python"
    }
  },
  "cells": [
    {
      "cell_type": "markdown",
      "metadata": {
        "id": "view-in-github",
        "colab_type": "text"
      },
      "source": [
        "<a href=\"https://colab.research.google.com/github/swaroopkasaraneni/Datascience/blob/main/Python_basics.ipynb\" target=\"_parent\"><img src=\"https://colab.research.google.com/assets/colab-badge.svg\" alt=\"Open In Colab\"/></a>"
      ]
    },
    {
      "cell_type": "markdown",
      "source": [],
      "metadata": {
        "id": "DYzno49WB3_F"
      }
    },
    {
      "cell_type": "markdown",
      "source": [
        "1.Write a program which will find factors of given number and find whether the factor is even or odd."
      ],
      "metadata": {
        "id": "AeciR4mbtMUR"
      }
    },
    {
      "cell_type": "code",
      "source": [
        "number = int(input(\"Enter a number to find its factors: \"))\n",
        "\n",
        "print(f\"Factors of {number} and whether they are even or odd:\")\n",
        "\n",
        "for i in range(1, number + 1):\n",
        "    if number % i == 0:\n",
        "        if i % 2 == 0:\n",
        "            print(f\"{i} is Even\")\n",
        "        else:\n",
        "            print(f\"{i} is Odd\")\n"
      ],
      "metadata": {
        "colab": {
          "base_uri": "https://localhost:8080/"
        },
        "id": "dU-e2WUpZPve",
        "outputId": "b7b802f2-8dbe-44dd-82b2-729f32c826bc"
      },
      "execution_count": null,
      "outputs": [
        {
          "output_type": "stream",
          "name": "stdout",
          "text": [
            "Enter a number to find its factors: 6\n",
            "Factors of 6 and whether they are even or odd:\n",
            "1 is Odd\n",
            "2 is Even\n",
            "3 is Odd\n",
            "6 is Even\n"
          ]
        }
      ]
    },
    {
      "cell_type": "markdown",
      "source": [
        "2. Write a code which accepts a sequence of words as input and prints the words in a sequence after sorting them alphabetically."
      ],
      "metadata": {
        "id": "UCSgwrlatwGT"
      }
    },
    {
      "cell_type": "code",
      "source": [
        "\n",
        "words = input(\"Enter a sequence of words, separated by spaces: \")\n",
        "word_list = words.split()\n",
        "sorted_words = sorted(word_list)\n",
        "print(\"Sorted words:\")\n",
        "print(\" \".join(sorted_words))\n"
      ],
      "metadata": {
        "colab": {
          "base_uri": "https://localhost:8080/"
        },
        "id": "FPDqiBFgt-yL",
        "outputId": "eb00180c-fd72-4087-b534-971b30a86cbc"
      },
      "execution_count": null,
      "outputs": [
        {
          "output_type": "stream",
          "name": "stdout",
          "text": [
            "Enter a sequence of words, separated by spaces: swaroop boy apple \n",
            "Sorted words:\n",
            "apple boy swaroop\n"
          ]
        }
      ]
    },
    {
      "cell_type": "markdown",
      "source": [
        "3.Write a program, whichwill find all the numbers between 1000 and 3000 (both included) such that each digit of a number is an even number. The numbers obtained should be printed in a comma separated sequence on a single line."
      ],
      "metadata": {
        "id": "dbRcDRIbuV6B"
      }
    },
    {
      "cell_type": "code",
      "source": [
        "\n",
        "even_digit_numbers = []\n",
        "for num in range(1000, 3001):\n",
        "    num_str = str(num)\n",
        "    if all(int(digit) % 2 == 0 for digit in num_str):\n",
        "        even_digit_numbers.append(num)\n",
        "\n",
        "print(\",\".join(map(str, even_digit_numbers)))\n"
      ],
      "metadata": {
        "colab": {
          "base_uri": "https://localhost:8080/"
        },
        "id": "uYeo_kb6upuR",
        "outputId": "c9b5cbed-bd50-4f6e-ceeb-a370f08d782b"
      },
      "execution_count": null,
      "outputs": [
        {
          "output_type": "stream",
          "name": "stdout",
          "text": [
            "2000,2002,2004,2006,2008,2020,2022,2024,2026,2028,2040,2042,2044,2046,2048,2060,2062,2064,2066,2068,2080,2082,2084,2086,2088,2200,2202,2204,2206,2208,2220,2222,2224,2226,2228,2240,2242,2244,2246,2248,2260,2262,2264,2266,2268,2280,2282,2284,2286,2288,2400,2402,2404,2406,2408,2420,2422,2424,2426,2428,2440,2442,2444,2446,2448,2460,2462,2464,2466,2468,2480,2482,2484,2486,2488,2600,2602,2604,2606,2608,2620,2622,2624,2626,2628,2640,2642,2644,2646,2648,2660,2662,2664,2666,2668,2680,2682,2684,2686,2688,2800,2802,2804,2806,2808,2820,2822,2824,2826,2828,2840,2842,2844,2846,2848,2860,2862,2864,2866,2868,2880,2882,2884,2886,2888\n"
          ]
        }
      ]
    },
    {
      "cell_type": "markdown",
      "source": [
        "4. Write a program that accepts a sentence and calculate the number of letters and digits"
      ],
      "metadata": {
        "id": "qmoJLohRvrBR"
      }
    },
    {
      "cell_type": "code",
      "source": [
        "sentence = input(\"Enter a sentence: \")\n",
        "\n",
        "letter_count = 0\n",
        "digit_count = 0\n",
        "\n",
        "for char in sentence:\n",
        "    if char.isalpha():\n",
        "        letter_count += 1\n",
        "    elif char.isdigit():\n",
        "        digit_count += 1\n",
        "\n",
        "# Print the counts\n",
        "print(f\"Number of letters: {letter_count}\")\n",
        "print(f\"Number of digits: {digit_count}\")\n"
      ],
      "metadata": {
        "colab": {
          "base_uri": "https://localhost:8080/"
        },
        "id": "6oNhkfGSvqDW",
        "outputId": "0a61d4b4-813f-4d78-ab1e-110588571ede"
      },
      "execution_count": null,
      "outputs": [
        {
          "output_type": "stream",
          "name": "stdout",
          "text": [
            "Enter a sentence: Python0325\n",
            "Number of letters: 6\n",
            "Number of digits: 4\n"
          ]
        }
      ]
    },
    {
      "cell_type": "markdown",
      "source": [
        "5. Design a code which will find the given number is Palindrome number or not."
      ],
      "metadata": {
        "id": "k_rfyRLEwegm"
      }
    },
    {
      "cell_type": "code",
      "source": [
        "def is_palindrome(number):\n",
        "    num_str = str(number)\n",
        "    return num_str == num_str[::-1]\n",
        "\n",
        "num = int(input(\"Enter a number: \"))\n",
        "if is_palindrome(num):\n",
        "    print(f\"{num} is a palindrome number.\")\n",
        "else:\n",
        "    print(f\"{num} is not a palindrome number.\")\n"
      ],
      "metadata": {
        "colab": {
          "base_uri": "https://localhost:8080/"
        },
        "id": "FmIhPB18whCc",
        "outputId": "16967290-afe4-4a84-f65e-5bce804c7cc6"
      },
      "execution_count": null,
      "outputs": [
        {
          "output_type": "stream",
          "name": "stdout",
          "text": [
            "Enter a number: 123321\n",
            "123321 is a palindrome number.\n"
          ]
        }
      ]
    },
    {
      "cell_type": "markdown",
      "source": [],
      "metadata": {
        "id": "9ut1UL8ctKXc"
      }
    },
    {
      "cell_type": "code",
      "source": [],
      "metadata": {
        "id": "jKiU22C0ZUhB"
      },
      "execution_count": null,
      "outputs": []
    }
  ]
}
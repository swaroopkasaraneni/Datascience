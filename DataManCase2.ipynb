{
  "nbformat": 4,
  "nbformat_minor": 0,
  "metadata": {
    "colab": {
      "provenance": [],
      "authorship_tag": "ABX9TyN3uewNMkXtHC9nK7cdSQm3",
      "include_colab_link": true
    },
    "kernelspec": {
      "name": "python3",
      "display_name": "Python 3"
    },
    "language_info": {
      "name": "python"
    }
  },
  "cells": [
    {
      "cell_type": "markdown",
      "metadata": {
        "id": "view-in-github",
        "colab_type": "text"
      },
      "source": [
        "<a href=\"https://colab.research.google.com/github/swaroopkasaraneni/PythonProgramming/blob/main/DataManCase2.ipynb\" target=\"_parent\"><img src=\"https://colab.research.google.com/assets/colab-badge.svg\" alt=\"Open In Colab\"/></a>"
      ]
    },
    {
      "cell_type": "code",
      "execution_count": null,
      "metadata": {
        "id": "E944JmMAmrGQ"
      },
      "outputs": [],
      "source": []
    },
    {
      "cell_type": "markdown",
      "source": [
        "1. Compute how much total salary cost has increased from year 2011 to 2014"
      ],
      "metadata": {
        "id": "Qzm7FvmmnSPP"
      }
    },
    {
      "cell_type": "code",
      "source": [
        "import pandas as pd\n",
        "\n",
        "df = pd.read_csv('/content/Salaries.csv')\n",
        "\n",
        "salary_2011 = df[df['Year'] == 2011]['TotalPay'].sum()\n",
        "salary_2014 = df[df['Year'] == 2014]['TotalPay'].sum()\n",
        "\n",
        "salary_increase = salary_2014 - salary_2011\n",
        "\n",
        "print(f\"Total salary cost in 2011: {salary_2011}\")\n",
        "print(f\"Total salary cost in 2014: {salary_2014}\")\n",
        "print(f\"Increase in total salary cost from 2011 to 2014: {salary_increase}\")\n"
      ],
      "metadata": {
        "colab": {
          "base_uri": "https://localhost:8080/"
        },
        "id": "mREKPLXnofQV",
        "outputId": "b6ee534e-a0e9-4323-ee9a-08e29f233c7d"
      },
      "execution_count": 1,
      "outputs": [
        {
          "output_type": "stream",
          "name": "stdout",
          "text": [
            "Total salary cost in 2011: 2594113030.72\n",
            "Total salary cost in 2014: 2876910951.2599998\n",
            "Increase in total salary cost from 2011 to 2014: 282797920.53999996\n"
          ]
        },
        {
          "output_type": "stream",
          "name": "stderr",
          "text": [
            "<ipython-input-1-12ef5d9ee658>:3: DtypeWarning: Columns (12) have mixed types. Specify dtype option on import or set low_memory=False.\n",
            "  df = pd.read_csv('/content/Salaries.csv')\n"
          ]
        }
      ]
    },
    {
      "cell_type": "markdown",
      "source": [
        "2. Which Job Title in Year 2014 has highest mean salary?"
      ],
      "metadata": {
        "id": "moMtWAo7nUxd"
      }
    },
    {
      "cell_type": "code",
      "source": [
        "import pandas as pd\n",
        "\n",
        "df = pd.read_csv('/content/Salaries.csv')\n",
        "df_2014 = df[df['Year'] == 2014]\n",
        "\n",
        "mean_salary_by_job = df_2014.groupby('JobTitle')['TotalPay'].mean()\n",
        "\n",
        "highest_mean_salary_job = mean_salary_by_job.idxmax()\n",
        "highest_mean_salary_value = mean_salary_by_job.max()\n",
        "\n",
        "print(f\"Job Title with the highest mean salary in 2014: {highest_mean_salary_job}\")\n",
        "print(f\"Mean Salary: {highest_mean_salary_value}\")\n"
      ],
      "metadata": {
        "colab": {
          "base_uri": "https://localhost:8080/"
        },
        "id": "aKAZKGt0o4hY",
        "outputId": "3a40d232-85ef-4d1d-e411-8f59d55a4e67"
      },
      "execution_count": 2,
      "outputs": [
        {
          "output_type": "stream",
          "name": "stdout",
          "text": [
            "Job Title with the highest mean salary in 2014: Chief Investment Officer\n",
            "Mean Salary: 339653.7\n"
          ]
        },
        {
          "output_type": "stream",
          "name": "stderr",
          "text": [
            "<ipython-input-2-65c122460df2>:3: DtypeWarning: Columns (12) have mixed types. Specify dtype option on import or set low_memory=False.\n",
            "  df = pd.read_csv('/content/Salaries.csv')\n"
          ]
        }
      ]
    },
    {
      "cell_type": "markdown",
      "source": [
        "Enhancements for code\n",
        "1. Which are the last 5 common job in Year 2014 and how much do they cost SFO?\n"
      ],
      "metadata": {
        "id": "LuBCRmfinWNR"
      }
    },
    {
      "cell_type": "code",
      "source": [
        "import pandas as pd\n",
        "\n",
        "df = pd.read_csv('/content/Salaries.csv')\n",
        "\n",
        "df_2014 = df[df['Year'] == 2014]\n",
        "job_counts = df_2014['JobTitle'].value_counts()\n",
        "\n",
        "last_5_common_jobs = job_counts.tail(5)\n",
        "\n",
        "total_salary_by_job = df_2014[df_2014['JobTitle'].isin(last_5_common_jobs.index)]\n",
        "total_salary_by_job_cost = total_salary_by_job.groupby('JobTitle')['TotalPay'].sum()\n",
        "\n",
        "print(\"Last 5 Common Jobs in 2014 and their Total Salary Costs (San Francisco):\")\n",
        "print(total_salary_by_job_cost)"
      ],
      "metadata": {
        "colab": {
          "base_uri": "https://localhost:8080/"
        },
        "id": "O_hELEDDpSGW",
        "outputId": "8c176fd4-d2af-4408-e0ec-fe2ee13f8858"
      },
      "execution_count": 4,
      "outputs": [
        {
          "output_type": "stream",
          "name": "stdout",
          "text": [
            "Last 5 Common Jobs in 2014 and their Total Salary Costs (San Francisco):\n",
            "JobTitle\n",
            "Asst Dir, Log Cabin Rnch         96812.41\n",
            "Chf Prob Ofc, Juv Court         198104.36\n",
            "Claims Process Clerk             61795.03\n",
            "Electric Motor Repair Sprv 1    104563.68\n",
            "Media Production Specialist      71636.84\n",
            "Name: TotalPay, dtype: float64\n"
          ]
        },
        {
          "output_type": "stream",
          "name": "stderr",
          "text": [
            "<ipython-input-4-8c1d47a267f5>:3: DtypeWarning: Columns (12) have mixed types. Specify dtype option on import or set low_memory=False.\n",
            "  df = pd.read_csv('/content/Salaries.csv')\n"
          ]
        }
      ]
    },
    {
      "cell_type": "markdown",
      "source": [
        "2. In year 201 OverTimePay was what percentage of  TotalPayBenefits"
      ],
      "metadata": {
        "id": "BvRrUN4AnhK5"
      }
    },
    {
      "cell_type": "code",
      "source": [
        "import pandas as pd\n",
        "\n",
        "df = pd.read_csv('/content/Salaries.csv')\n",
        "df_2011 = df[df['Year'] == 2011]\n",
        "df_2011.loc[:, 'OvertimePayPercentage'] = (df_2011['OvertimePay'] / df_2011['TotalPayBenefits']) * 100\n",
        "mean_percentage = df_2011['OvertimePayPercentage'].mean()\n",
        "print(f\"The average percentage of OvertimePay in TotalPayBenefits for Year 2011 is: {mean_percentage:.2f}%\")\n"
      ],
      "metadata": {
        "colab": {
          "base_uri": "https://localhost:8080/"
        },
        "id": "lg9LFMS6qEnZ",
        "outputId": "fa9b9e18-014c-486a-fde5-b480d2e04930"
      },
      "execution_count": 6,
      "outputs": [
        {
          "output_type": "stream",
          "name": "stdout",
          "text": [
            "The average percentage of OvertimePay in TotalPayBenefits for Year 2011 is: 4.70%\n"
          ]
        },
        {
          "output_type": "stream",
          "name": "stderr",
          "text": [
            "<ipython-input-6-a58f75248fda>:3: DtypeWarning: Columns (12) have mixed types. Specify dtype option on import or set low_memory=False.\n",
            "  df = pd.read_csv('/content/Salaries.csv')\n",
            "<ipython-input-6-a58f75248fda>:5: SettingWithCopyWarning: \n",
            "A value is trying to be set on a copy of a slice from a DataFrame.\n",
            "Try using .loc[row_indexer,col_indexer] = value instead\n",
            "\n",
            "See the caveats in the documentation: https://pandas.pydata.org/pandas-docs/stable/user_guide/indexing.html#returning-a-view-versus-a-copy\n",
            "  df_2011.loc[:, 'OvertimePayPercentage'] = (df_2011['OvertimePay'] / df_2011['TotalPayBenefits']) * 100\n"
          ]
        }
      ]
    },
    {
      "cell_type": "markdown",
      "source": [
        "3. Which Job Title in Year 2014 has lowest mean salary?"
      ],
      "metadata": {
        "id": "XQufXH9Fnjpa"
      }
    },
    {
      "cell_type": "code",
      "source": [
        "import pandas as pd\n",
        "\n",
        "df = pd.read_csv('/content/Salaries.csv')\n",
        "df_2014 = df[df['Year'] == 2014]\n",
        "\n",
        "mean_salary_by_job = df_2014.groupby('JobTitle')['TotalPay'].mean()\n",
        "lowest_mean_salary_job = mean_salary_by_job.idxmin()\n",
        "lowest_mean_salary_value = mean_salary_by_job.min()\n",
        "\n",
        "print(f\"The job title with the lowest mean salary in 2014 is: {lowest_mean_salary_job}\")\n",
        "print(f\"The lowest mean salary is: {lowest_mean_salary_value}\")"
      ],
      "metadata": {
        "colab": {
          "base_uri": "https://localhost:8080/"
        },
        "id": "VCU7UkaFrf9M",
        "outputId": "60524cd4-0381-462c-ed10-56947066538a"
      },
      "execution_count": 7,
      "outputs": [
        {
          "output_type": "stream",
          "name": "stdout",
          "text": [
            "The job title with the lowest mean salary in 2014 is: Special Assistant 15\n",
            "The lowest mean salary is: 0.0\n"
          ]
        },
        {
          "output_type": "stream",
          "name": "stderr",
          "text": [
            "<ipython-input-7-7c15e44b54dc>:3: DtypeWarning: Columns (12) have mixed types. Specify dtype option on import or set low_memory=False.\n",
            "  df = pd.read_csv('/content/Salaries.csv')\n"
          ]
        }
      ]
    }
  ]
}
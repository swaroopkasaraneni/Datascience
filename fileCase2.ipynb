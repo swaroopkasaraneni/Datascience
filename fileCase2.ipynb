{
  "nbformat": 4,
  "nbformat_minor": 0,
  "metadata": {
    "colab": {
      "provenance": [],
      "authorship_tag": "ABX9TyMomTmekm8tpdPevJ0Am1RS",
      "include_colab_link": true
    },
    "kernelspec": {
      "name": "python3",
      "display_name": "Python 3"
    },
    "language_info": {
      "name": "python"
    }
  },
  "cells": [
    {
      "cell_type": "markdown",
      "metadata": {
        "id": "view-in-github",
        "colab_type": "text"
      },
      "source": [
        "<a href=\"https://colab.research.google.com/github/swaroopkasaraneni/PythonProgramming/blob/main/fileCase2.ipynb\" target=\"_parent\"><img src=\"https://colab.research.google.com/assets/colab-badge.svg\" alt=\"Open In Colab\"/></a>"
      ]
    },
    {
      "cell_type": "code",
      "execution_count": null,
      "metadata": {
        "id": "EpTlKIU_emdN"
      },
      "outputs": [],
      "source": []
    },
    {
      "cell_type": "markdown",
      "source": [
        "1. Read the input from command line –Reference ID\n",
        "2. Check for validity –it should be 12 digits and allows on number and alphabet\n",
        "3. Encrypt the Reference ID and print it for reference\n"
      ],
      "metadata": {
        "id": "iZBlJ25Kepsr"
      }
    },
    {
      "cell_type": "code",
      "source": [
        "import re\n",
        "import sys\n",
        "import base64\n",
        "\n",
        "def validate_reference_id(reference_id):\n",
        "    if len(reference_id) != 12:\n",
        "        return False\n",
        "    if not re.match(r'^(?=.*[a-zA-Z])(?=.*\\d)[a-zA-Z0-9]+$', reference_id):\n",
        "        return False\n",
        "    return True\n",
        "\n",
        "def encode_to_base64(reference_id):\n",
        "    reference_id_bytes = reference_id.encode('utf-8')\n",
        "    base64_encoded = base64.b64encode(reference_id_bytes)\n",
        "    return base64_encoded.decode('utf-8')\n",
        "\n",
        "\n",
        "reference_id = input(\"Enter a reference_id: \")\n",
        "if not validate_reference_id(reference_id):\n",
        "    print(\"Invalid Reference ID. It should be 12 characters long and contain at least one digit and one letter.\")\n",
        "else:\n",
        "    # Encrypt the Reference ID\n",
        "    encrypted_id = encode_to_base64(reference_id)\n",
        "    print(f\"Encrypted Reference ID: {encrypted_id}\")\n"
      ],
      "metadata": {
        "colab": {
          "base_uri": "https://localhost:8080/"
        },
        "id": "ZhaA8deMfzGo",
        "outputId": "f5fe0254-97b2-4f3d-85ba-29a54a06b213"
      },
      "execution_count": 3,
      "outputs": [
        {
          "output_type": "stream",
          "name": "stdout",
          "text": [
            "Enter a reference_id: a12345678910\n",
            "Encrypted Reference ID: YTEyMzQ1Njc4OTEw\n"
          ]
        }
      ]
    },
    {
      "cell_type": "markdown",
      "source": [
        "Enhancements for codeYou can try these enhancements in code\n",
        "1. Allow some special characters in ReferenceID\n",
        "2. Give the option for decryption to user"
      ],
      "metadata": {
        "id": "pTkPbkeffzbi"
      }
    },
    {
      "cell_type": "code",
      "source": [
        "import re\n",
        "import sys\n",
        "import base64\n",
        "\n",
        "def validate_reference_id(reference_id):\n",
        "    if len(reference_id) != 12:\n",
        "        return False\n",
        "    if not re.match(r'^(?=.*[a-zA-Z])(?=.*\\d)[a-zA-Z0-9@#$%^&+=]{12}$', reference_id):\n",
        "        return False\n",
        "    return True\n",
        "\n",
        "def encode_to_base64(reference_id):\n",
        "    reference_id_bytes = reference_id.encode('utf-8')\n",
        "    base64_encoded = base64.b64encode(reference_id_bytes)\n",
        "    return base64_encoded.decode('utf-8')\n",
        "\n",
        "def decode_from_base64(encoded_reference_id):\n",
        "    encoded_bytes = encoded_reference_id.encode('utf-8')\n",
        "    decoded_bytes = base64.b64decode(encoded_bytes)\n",
        "    return decoded_bytes.decode('utf-8')\n",
        "\n",
        "action = input(\"Enter a encode/decode: \")\n",
        "\n",
        "if action == \"encode\":\n",
        "  reference_id = input(\"Enter a reference_id: \")\n",
        "  if not validate_reference_id(reference_id):\n",
        "      print(\"Invalid Reference ID. It should be 12 characters long and contain at least one digit and one letter.\")\n",
        "  else:\n",
        "    # Encrypt the Reference ID\n",
        "    encrypted_id = encode_to_base64(reference_id)\n",
        "    print(f\"Encrypted Reference ID: {encrypted_id}\")\n",
        "elif action == \"decode\":\n",
        "  # Decode the Reference ID from base64\n",
        "  try:\n",
        "      encode_reference_id = input(\"Enter a encode_reference_id: \")\n",
        "      decoded_id = decode_from_base64(encode_reference_id)\n",
        "      print(f\"Decoded Reference ID: {decoded_id}\")\n",
        "  except Exception as e:\n",
        "        print(f\"Error decoding the Reference ID: {e}\")\n",
        "else:\n",
        "    print(\"Invalid action. Please use 'encode' or 'decode'.\")"
      ],
      "metadata": {
        "colab": {
          "base_uri": "https://localhost:8080/"
        },
        "id": "BAOBOvigi4Vd",
        "outputId": "562345ce-9ef7-4c02-902f-6a5669b1c88d"
      },
      "execution_count": 8,
      "outputs": [
        {
          "output_type": "stream",
          "name": "stdout",
          "text": [
            "Enter a encode/decode: decode\n",
            "Enter a encode_reference_id: YTEyMzQ1Njc4OTFA\n",
            "Decoded Reference ID: a1234567891@\n"
          ]
        }
      ]
    }
  ]
}
{
  "nbformat": 4,
  "nbformat_minor": 0,
  "metadata": {
    "colab": {
      "provenance": [],
      "authorship_tag": "ABX9TyO6YQdvwSQwRbfDo9hQ1E1F",
      "include_colab_link": true
    },
    "kernelspec": {
      "name": "python3",
      "display_name": "Python 3"
    },
    "language_info": {
      "name": "python"
    }
  },
  "cells": [
    {
      "cell_type": "markdown",
      "metadata": {
        "id": "view-in-github",
        "colab_type": "text"
      },
      "source": [
        "<a href=\"https://colab.research.google.com/github/swaroopkasaraneni/PythonProgramming/blob/main/DevelopingWebCase1_.ipynb\" target=\"_parent\"><img src=\"https://colab.research.google.com/assets/colab-badge.svg\" alt=\"Open In Colab\"/></a>"
      ]
    },
    {
      "cell_type": "markdown",
      "source": [
        "1. Create a pandas dataframe having following structure\n",
        "\n",
        "```\n",
        "#     float_col        int_col str_col\n",
        "0       0.1           1       a\n",
        "1       0.2           2       b\n",
        "2       0.2           6       None\n",
        "3       10.1          8       c\n",
        "4        NaN         -1       a\n",
        "```\n",
        "\n",
        "\n"
      ],
      "metadata": {
        "id": "xco1GuSB6E6q"
      }
    },
    {
      "cell_type": "code",
      "source": [
        "import pandas as pd\n",
        "import numpy as np\n",
        "\n",
        "data = {\n",
        "    \"float_col\": [0.1, 0.2, 0.2, 10.1, np.nan],\n",
        "    \"int_col\": [1, 2, 6, 8, -1],\n",
        "    \"str_col\": [\"a\", \"b\", None, \"c\", \"a\"],\n",
        "}\n",
        "\n",
        "df = pd.DataFrame(data)\n",
        "print(df)\n"
      ],
      "metadata": {
        "colab": {
          "base_uri": "https://localhost:8080/"
        },
        "id": "AcCVYHb09N-a",
        "outputId": "beb74c48-8ab0-4613-a23f-63da0fef6e83"
      },
      "execution_count": 6,
      "outputs": [
        {
          "output_type": "stream",
          "name": "stdout",
          "text": [
            "   float_col  int_col str_col\n",
            "0        0.1        1       a\n",
            "1        0.2        2       b\n",
            "2        0.2        6    None\n",
            "3       10.1        8       c\n",
            "4        NaN       -1       a\n"
          ]
        }
      ]
    },
    {
      "cell_type": "markdown",
      "source": [
        "2.filter  the  columns  'float_col',  'int_col'  from  the  dataframe  in  one  query.  Hint-use  ix method of dataframes. Also print without using ix method\n"
      ],
      "metadata": {
        "id": "lT26aifj7C__"
      }
    },
    {
      "cell_type": "code",
      "source": [
        "# Filter the columns 'float_col' and 'int_col'\n",
        "filtered_df_loc = df.loc[:, [\"float_col\", \"int_col\"]]\n",
        "print(filtered_df_loc)\n",
        "\n",
        "# Filter columns using their positions (0 and 1 in this case)\n",
        "filtered_df_iloc = df.iloc[:, [0, 1]]\n",
        "print(filtered_df_iloc)\n",
        "\n",
        "# Directly access the columns\n",
        "filtered_df_direct = df[[\"float_col\", \"int_col\"]]\n",
        "print(filtered_df_direct)"
      ],
      "metadata": {
        "colab": {
          "base_uri": "https://localhost:8080/"
        },
        "id": "eOm4Jm82-RuL",
        "outputId": "0ef69865-4e75-4e50-ab23-708be0964bec"
      },
      "execution_count": 9,
      "outputs": [
        {
          "output_type": "stream",
          "name": "stdout",
          "text": [
            "   float_col  int_col\n",
            "0        0.1        1\n",
            "1        0.2        2\n",
            "2        0.2        6\n",
            "3       10.1        8\n",
            "4        NaN       -1\n",
            "   float_col  int_col\n",
            "0        0.1        1\n",
            "1        0.2        2\n",
            "2        0.2        6\n",
            "3       10.1        8\n",
            "4        NaN       -1\n",
            "   float_col  int_col\n",
            "0        0.1        1\n",
            "1        0.2        2\n",
            "2        0.2        6\n",
            "3       10.1        8\n",
            "4        NaN       -1\n"
          ]
        }
      ]
    },
    {
      "cell_type": "markdown",
      "source": [
        "3.filter the records from float_col having value greater than 0.15 and in separate query filter float_col value equal to 0.1"
      ],
      "metadata": {
        "id": "e6giY_XO7RJ9"
      }
    },
    {
      "cell_type": "code",
      "source": [
        "filtered = df[df[\"float_col\"] > 0.15]\n",
        "print(filtered)\n",
        "filtered = df[df[\"float_col\"] == 0.1]\n",
        "print(filtered)"
      ],
      "metadata": {
        "colab": {
          "base_uri": "https://localhost:8080/"
        },
        "id": "a190_qf_-i9I",
        "outputId": "8502d0f2-0b01-4606-f2fd-8d14d18a61eb"
      },
      "execution_count": 13,
      "outputs": [
        {
          "output_type": "stream",
          "name": "stdout",
          "text": [
            "   float_col  int_col str_col\n",
            "1        0.2        2       b\n",
            "2        0.2        6    None\n",
            "3       10.1        8       c\n",
            "   float_col  int_col str_col\n",
            "0        0.1        1       a\n"
          ]
        }
      ]
    },
    {
      "cell_type": "markdown",
      "source": [
        "4.filter  the  records  from data  framewhich  satisfies  both  the  conditions  float_col greater than 0.1 and int_col greater than 2"
      ],
      "metadata": {
        "id": "nGI_tmMW7URn"
      }
    },
    {
      "cell_type": "code",
      "source": [
        "filtered = df[(df[\"float_col\"] > 0.1) & (df[\"int_col\"] > 2)]\n",
        "print(filtered)"
      ],
      "metadata": {
        "colab": {
          "base_uri": "https://localhost:8080/"
        },
        "id": "yLw0LvgP_S8X",
        "outputId": "5d22b497-7ff3-4c38-c059-f692369ae859"
      },
      "execution_count": 14,
      "outputs": [
        {
          "output_type": "stream",
          "name": "stdout",
          "text": [
            "   float_col  int_col str_col\n",
            "2        0.2        6    None\n",
            "3       10.1        8       c\n"
          ]
        }
      ]
    },
    {
      "cell_type": "markdown",
      "source": [
        "5.filter  the  records  from  data  frame  which  satisfies  both  the  conditions  float_col greater than 0.1 or int_colgreater than 2"
      ],
      "metadata": {
        "id": "HSlOBVOg7WpL"
      }
    },
    {
      "cell_type": "code",
      "source": [
        "filtered = df[(df[\"float_col\"] > 0.1) | (df[\"int_col\"] > 2)]\n",
        "print(filtered)"
      ],
      "metadata": {
        "colab": {
          "base_uri": "https://localhost:8080/"
        },
        "id": "woiwnfFn_vG0",
        "outputId": "67414921-8d5e-418e-ba14-8e8eea560349"
      },
      "execution_count": 15,
      "outputs": [
        {
          "output_type": "stream",
          "name": "stdout",
          "text": [
            "   float_col  int_col str_col\n",
            "1        0.2        2       b\n",
            "2        0.2        6    None\n",
            "3       10.1        8       c\n"
          ]
        }
      ]
    },
    {
      "cell_type": "markdown",
      "source": [
        "6.filter the records from data frame which satisfies the conditions float_col not greater than 0.1"
      ],
      "metadata": {
        "id": "CE_RSkOW7ZJ3"
      }
    },
    {
      "cell_type": "code",
      "source": [
        "filtered = df[(df[\"float_col\"] <= 0.1)]\n",
        "print(filtered)"
      ],
      "metadata": {
        "colab": {
          "base_uri": "https://localhost:8080/"
        },
        "id": "emkByiwG_1pf",
        "outputId": "0f7471e2-77b3-476e-d944-df5fb08dcfc9"
      },
      "execution_count": 16,
      "outputs": [
        {
          "output_type": "stream",
          "name": "stdout",
          "text": [
            "   float_col  int_col str_col\n",
            "0        0.1        1       a\n"
          ]
        }
      ]
    },
    {
      "cell_type": "markdown",
      "source": [
        "7.Create a new data frame in which column int_col is renamed to new_name."
      ],
      "metadata": {
        "id": "KMNdXp9Z7as9"
      }
    },
    {
      "cell_type": "code",
      "source": [
        "# Rename the column 'int_col' to 'new_name'\n",
        "df_renamed = df.rename(columns={\"int_col\": \"new_name\"})\n",
        "\n",
        "# Print the new DataFrame\n",
        "print(df_renamed)"
      ],
      "metadata": {
        "colab": {
          "base_uri": "https://localhost:8080/"
        },
        "id": "qxQ97x5QADcv",
        "outputId": "a4f76dfd-aed9-40b2-9941-af0671457964"
      },
      "execution_count": 17,
      "outputs": [
        {
          "output_type": "stream",
          "name": "stdout",
          "text": [
            "   float_col  new_name str_col\n",
            "0        0.1         1       a\n",
            "1        0.2         2       b\n",
            "2        0.2         6    None\n",
            "3       10.1         8       c\n",
            "4        NaN        -1       a\n"
          ]
        }
      ]
    },
    {
      "cell_type": "markdown",
      "source": [
        "8.Modify the existing dataframe and rename the column int_col to new_name"
      ],
      "metadata": {
        "id": "F4DBKmPc7cjF"
      }
    },
    {
      "cell_type": "code",
      "source": [
        "# Rename the column 'int_col' to 'new_name'\n",
        "df.rename(columns={\"int_col\": \"new_name\"}, inplace=True)\n",
        "\n",
        "# Print the new DataFrame\n",
        "print(df)"
      ],
      "metadata": {
        "colab": {
          "base_uri": "https://localhost:8080/"
        },
        "id": "4H_vtDRCASYa",
        "outputId": "d554559c-05d1-4fe1-d2d8-46a70592c651"
      },
      "execution_count": 18,
      "outputs": [
        {
          "output_type": "stream",
          "name": "stdout",
          "text": [
            "   float_col  new_name str_col\n",
            "0        0.1         1       a\n",
            "1        0.2         2       b\n",
            "2        0.2         6    None\n",
            "3       10.1         8       c\n",
            "4        NaN        -1       a\n"
          ]
        }
      ]
    },
    {
      "cell_type": "markdown",
      "source": [
        "9.Drop the rows where any value is missing from the dataframe"
      ],
      "metadata": {
        "id": "Acc9c7J67eHZ"
      }
    },
    {
      "cell_type": "code",
      "source": [
        "df_dropped = df.dropna()\n",
        "\n",
        "# Print the new DataFrame\n",
        "print(df_dropped)"
      ],
      "metadata": {
        "colab": {
          "base_uri": "https://localhost:8080/"
        },
        "id": "-2fF74zZAkR8",
        "outputId": "dd249a5b-79d1-44c7-b1ee-1a36e5798290"
      },
      "execution_count": 19,
      "outputs": [
        {
          "output_type": "stream",
          "name": "stdout",
          "text": [
            "   float_col  new_name str_col\n",
            "0        0.1         1       a\n",
            "1        0.2         2       b\n",
            "3       10.1         8       c\n"
          ]
        }
      ]
    },
    {
      "cell_type": "markdown",
      "source": [
        "10. Change the missing value in column float_col as mean value of the float_col\n"
      ],
      "metadata": {
        "id": "uMouK-cc7e1i"
      }
    },
    {
      "cell_type": "code",
      "source": [
        "\n",
        "mean_value = df[\"float_col\"].mean()\n",
        "df[\"float_col\"].fillna(mean_value, inplace=True)\n",
        "print(df)"
      ],
      "metadata": {
        "colab": {
          "base_uri": "https://localhost:8080/"
        },
        "id": "XXM79GPrAyHI",
        "outputId": "4fe4e911-40bb-4212-a666-daf7ca9785ba"
      },
      "execution_count": 20,
      "outputs": [
        {
          "output_type": "stream",
          "name": "stdout",
          "text": [
            "   float_col  new_name str_col\n",
            "0       0.10         1       a\n",
            "1       0.20         2       b\n",
            "2       0.20         6    None\n",
            "3      10.10         8       c\n",
            "4       2.65        -1       a\n"
          ]
        },
        {
          "output_type": "stream",
          "name": "stderr",
          "text": [
            "<ipython-input-20-f3e570fba26a>:2: FutureWarning: A value is trying to be set on a copy of a DataFrame or Series through chained assignment using an inplace method.\n",
            "The behavior will change in pandas 3.0. This inplace method will never work because the intermediate object on which we are setting values always behaves as a copy.\n",
            "\n",
            "For example, when doing 'df[col].method(value, inplace=True)', try using 'df.method({col: value}, inplace=True)' or df[col] = df[col].method(value) instead, to perform the operation inplace on the original object.\n",
            "\n",
            "\n",
            "  df[\"float_col\"].fillna(mean_value, inplace=True)\n"
          ]
        }
      ]
    },
    {
      "cell_type": "markdown",
      "source": [
        "11. change all the values of str_col with new value and drop the missing values. New\n",
        "value should have prefix map_ and original value. Eg map_a, map_b\n"
      ],
      "metadata": {
        "id": "v-vmpwQ27rpi"
      }
    },
    {
      "cell_type": "code",
      "source": [
        "df[\"str_col\"] = df[\"str_col\"].fillna(\"\").apply(lambda x: f\"map_{x}\" if x != \"\" else x)\n",
        "df_cleaned = df.dropna()\n",
        "print(df_cleaned)"
      ],
      "metadata": {
        "colab": {
          "base_uri": "https://localhost:8080/"
        },
        "id": "SkBlyxNTBWPJ",
        "outputId": "bbf50495-95af-49aa-f324-3367eedc39f4"
      },
      "execution_count": 21,
      "outputs": [
        {
          "output_type": "stream",
          "name": "stdout",
          "text": [
            "   float_col  new_name str_col\n",
            "0       0.10         1   map_a\n",
            "1       0.20         2   map_b\n",
            "2       0.20         6        \n",
            "3      10.10         8   map_c\n",
            "4       2.65        -1   map_a\n"
          ]
        }
      ]
    },
    {
      "cell_type": "markdown",
      "source": [
        "12. group all the values of str_col and find the mean of float_col in all the groups\n",
        "respectively.\n"
      ],
      "metadata": {
        "id": "-A_UNw-k7t1Y"
      }
    },
    {
      "cell_type": "code",
      "source": [
        "grouped_mean = df.groupby(\"str_col\")[\"float_col\"].mean()\n",
        "\n",
        "# Print the result\n",
        "print(grouped_mean)"
      ],
      "metadata": {
        "colab": {
          "base_uri": "https://localhost:8080/"
        },
        "id": "Aq5mKWNCBs1W",
        "outputId": "97a29ca2-c4b0-41b6-ddfe-d101b069634c"
      },
      "execution_count": 22,
      "outputs": [
        {
          "output_type": "stream",
          "name": "stdout",
          "text": [
            "str_col\n",
            "          0.200\n",
            "map_a     1.375\n",
            "map_b     0.200\n",
            "map_c    10.100\n",
            "Name: float_col, dtype: float64\n"
          ]
        }
      ]
    },
    {
      "cell_type": "markdown",
      "source": [
        "13. find the covariance of float_col and int_col\n"
      ],
      "metadata": {
        "id": "co-pCXzm7vaI"
      }
    },
    {
      "cell_type": "code",
      "source": [
        "df.rename(columns={\"new_name\": \"int_col\"}, inplace=True)\n",
        "df_cleaned = df.dropna()\n",
        "covariance = df_cleaned[\"float_col\"].cov(df_cleaned[\"int_col\"])\n",
        "print(\"Covariance between float_col and int_col:\", covariance)"
      ],
      "metadata": {
        "colab": {
          "base_uri": "https://localhost:8080/"
        },
        "id": "G6e6TOiiB6lw",
        "outputId": "620b6a9c-ec84-4bef-8750-651444c191b0"
      },
      "execution_count": 27,
      "outputs": [
        {
          "output_type": "stream",
          "name": "stdout",
          "text": [
            "Covariance between float_col and int_col: 9.362499999999999\n"
          ]
        }
      ]
    },
    {
      "cell_type": "markdown",
      "source": [
        "14. find the correlation of float_col and int_col\n"
      ],
      "metadata": {
        "id": "7Ni9ASLa7xEV"
      }
    },
    {
      "cell_type": "code",
      "source": [
        "df_cleaned = df.dropna()\n",
        "correlation = df_cleaned[\"float_col\"].corr(df_cleaned[\"int_col\"])\n",
        "print(\"Correlation between float_col and int_col:\", correlation)"
      ],
      "metadata": {
        "colab": {
          "base_uri": "https://localhost:8080/"
        },
        "id": "ezwlV1ZXCoDf",
        "outputId": "889f3521-dadb-4183-84bc-df5561a3da57"
      },
      "execution_count": 28,
      "outputs": [
        {
          "output_type": "stream",
          "name": "stdout",
          "text": [
            "Correlation between float_col and int_col: 0.5880528250381778\n"
          ]
        }
      ]
    },
    {
      "cell_type": "markdown",
      "source": [
        "15. Create a data frame ‘other’ having columns some_val and str_col having values given\n",
        "below\n",
        "\n",
        "\n",
        "```\n",
        "# some_val str_col\n",
        "0   1       a\n",
        "1   2       b\n",
        "```\n",
        "Perform inner join, outer join, left join and right join with data frame x\n",
        "\n",
        "\n"
      ],
      "metadata": {
        "id": "5YO0YI7i7yj1"
      }
    },
    {
      "cell_type": "code",
      "source": [
        "import pandas as pd\n",
        "\n",
        "data_x = {\n",
        "    \"some_val\": [1, 3],\n",
        "    \"int_col\": [100, 200],\n",
        "}\n",
        "data_other = {\n",
        "    \"some_val\": [1, 2],\n",
        "    \"str_col\": [\"a\", \"b\"],\n",
        "}\n",
        "x = pd.DataFrame(data_x)\n",
        "other = pd.DataFrame(data_other)\n",
        "\n",
        "print(\"DataFrame x:\")\n",
        "print(x)\n",
        "print(\"\\nDataFrame other:\")\n",
        "print(other)\n",
        "\n",
        "# Inner join\n",
        "inner_join = pd.merge(x, other, on=\"some_val\", how=\"inner\")\n",
        "print(\"\\nInner Join:\")\n",
        "print(inner_join)\n",
        "\n",
        "# Outer join\n",
        "outer_join = pd.merge(x, other, on=\"some_val\", how=\"outer\")\n",
        "print(\"\\nOuter Join:\")\n",
        "print(outer_join)\n",
        "\n",
        "# Left join\n",
        "left_join = pd.merge(x, other, on=\"some_val\", how=\"left\")\n",
        "print(\"\\nLeft Join:\")\n",
        "print(left_join)\n",
        "\n",
        "# Right join\n",
        "right_join = pd.merge(x, other, on=\"some_val\", how=\"right\")\n",
        "print(\"\\nRight Join:\")\n",
        "print(right_join)\n"
      ],
      "metadata": {
        "colab": {
          "base_uri": "https://localhost:8080/"
        },
        "id": "Us6l-KpQDDyJ",
        "outputId": "9533660e-5f49-4c28-d064-24f32a604a17"
      },
      "execution_count": 29,
      "outputs": [
        {
          "output_type": "stream",
          "name": "stdout",
          "text": [
            "DataFrame x:\n",
            "   some_val  int_col\n",
            "0         1      100\n",
            "1         3      200\n",
            "\n",
            "DataFrame other:\n",
            "   some_val str_col\n",
            "0         1       a\n",
            "1         2       b\n",
            "\n",
            "Inner Join:\n",
            "   some_val  int_col str_col\n",
            "0         1      100       a\n",
            "\n",
            "Outer Join:\n",
            "   some_val  int_col str_col\n",
            "0         1    100.0       a\n",
            "1         2      NaN       b\n",
            "2         3    200.0     NaN\n",
            "\n",
            "Left Join:\n",
            "   some_val  int_col str_col\n",
            "0         1      100       a\n",
            "1         3      200     NaN\n",
            "\n",
            "Right Join:\n",
            "   some_val  int_col str_col\n",
            "0         1    100.0       a\n",
            "1         2      NaN       b\n"
          ]
        }
      ]
    },
    {
      "cell_type": "markdown",
      "source": [
        "16. When we want to send the same invitations to many people, the body of the mail\n",
        "does not change. Only the name (and maybe address) needs to be changed.\n",
        " Mail merge is a process of doing this. Instead of writing each mail separately,\n",
        "we have a template for body of the mail and a list of names that we merge\n",
        "together to form all the mails.\n",
        "Create a text file “names.txt” having the names.\n",
        "\n",
        "\n",
        "```\n",
        "Anil\n",
        "sunita\n",
        "suman\n",
        "lokesh\n",
        "Sumita\n",
        "John\n",
        "Johny\n",
        "```\n",
        "\n"
      ],
      "metadata": {
        "id": "1RW17JY18Kkn"
      }
    },
    {
      "cell_type": "code",
      "source": [
        "names = [\"Anil\", \"sunita\", \"suman\", \"lokesh\", \"Sumita\",\"John\",\"Johny\"]\n",
        "with open(\"names.txt\", \"w\") as file:\n",
        "    # Write each name in the list to the file\n",
        "    for name in names:\n",
        "        file.write(name + \"\\n\")"
      ],
      "metadata": {
        "id": "w2cBYlYJEAB5"
      },
      "execution_count": 30,
      "outputs": []
    },
    {
      "cell_type": "markdown",
      "source": [
        "Create a text file “body.txt” having the body of email.\n",
        "\n",
        "\n",
        "```\n",
        "I am going to Delhi. Lets meet on 7th Jan 2018\n",
        "Have a great day\n",
        "Regards\n",
        "Team Victory\n",
        "```\n",
        "Write a program which should create separate files Anil.txt, sunita.txt, suman.txt\n",
        "etc after picking names from names.txt. content of these files looks like –\n",
        "\n",
        "\n",
        "\n",
        "```\n",
        "Anil.txt\n",
        "-----------------------\n",
        "Hello Anil\n",
        "I am going to Delhi. Lets meet on 7th Jan 2018\n",
        "Have a great day\n",
        "Regards\n",
        "Team Victory\n",
        "------------------------\n",
        "```\n",
        "\n",
        "\n"
      ],
      "metadata": {
        "id": "Z53XSN9P8Y3e"
      }
    },
    {
      "cell_type": "code",
      "source": [
        "# Define the body of the email\n",
        "email_body = \"\"\"\\\n",
        "Hello {name},\n",
        "I am going to Delhi. Lets meet on 7th Jan 2018\n",
        "Have a great day\n",
        "Regards\n",
        "Team Victory\n",
        "\"\"\"\n",
        "\n",
        "# Open the file in write mode\n",
        "with open(\"body.txt\", \"w\") as file:\n",
        "    # Write the email body to the file\n",
        "    file.write(email_body)\n"
      ],
      "metadata": {
        "id": "R4SxptUZEobh"
      },
      "execution_count": 31,
      "outputs": []
    },
    {
      "cell_type": "code",
      "source": [
        "# Read the names from names.txt\n",
        "with open(\"names.txt\", \"r\") as file:\n",
        "    names = file.readlines()\n",
        "\n",
        "# Read the names from names.txt\n",
        "with open(\"body.txt\", \"r\") as file:\n",
        "    email_body = file.readlines()\n",
        "\n",
        "email_body = ''.join(email_body)\n",
        "\n",
        "# Trim any extra spaces or newline characters\n",
        "names = [name.strip() for name in names]\n",
        "\n",
        "for name in names:\n",
        "    # Create the filename for each name (e.g., Anil.txt)\n",
        "    filename = f\"{name}.txt\"\n",
        "\n",
        "    # Open the file and write the content\n",
        "    with open(filename, \"w\") as file:\n",
        "        file.write(email_body.format(name=name))\n",
        "\n",
        "    print(f\"File {filename} has been created.\")"
      ],
      "metadata": {
        "colab": {
          "base_uri": "https://localhost:8080/"
        },
        "id": "A9g6RjWG881U",
        "outputId": "cf1ee1d4-f256-4282-ab15-8859c4323fac"
      },
      "execution_count": 39,
      "outputs": [
        {
          "output_type": "stream",
          "name": "stdout",
          "text": [
            "File Anil.txt has been created.\n",
            "File sunita.txt has been created.\n",
            "File suman.txt has been created.\n",
            "File lokesh.txt has been created.\n",
            "File Sumita.txt has been created.\n",
            "File John.txt has been created.\n",
            "File Johny.txt has been created.\n"
          ]
        }
      ]
    },
    {
      "cell_type": "markdown",
      "source": [],
      "metadata": {
        "id": "UrTmJLuI8Mjk"
      }
    },
    {
      "cell_type": "markdown",
      "source": [],
      "metadata": {
        "id": "tzhUqD-q60-1"
      }
    }
  ]
}